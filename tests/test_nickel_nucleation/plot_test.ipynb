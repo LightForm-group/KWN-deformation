{
 "cells": [
  {
   "cell_type": "code",
   "execution_count": 1,
   "id": "e62063fe",
   "metadata": {},
   "outputs": [],
   "source": [
    "import numpy as np\n",
    "import pandas as pd\n",
    "import csv\n",
    "import math\n",
    "from mpl_toolkits.axes_grid1 import host_subplot\n",
    "import mpl_toolkits.axisartist as AA\n",
    "\n",
    "import matplotlib.pyplot as plt\n",
    "import matplotlib.ticker as ticker\n",
    "from scipy.integrate import quad\n",
    "from scipy import interpolate\n",
    "from scipy.optimize import curve_fit\n",
    "from scipy.signal import find_peaks\n"
   ]
  },
  {
   "cell_type": "code",
   "execution_count": 2,
   "id": "82799ca5",
   "metadata": {},
   "outputs": [],
   "source": [
    "#format plot\n",
    "\n",
    "\n",
    "plt.rc('font',**{'family':'sans-serif','sans-serif':['Helvetica']})\n",
    "plt.rc('font',**{'family':'serif','serif':['Times']})\n",
    "plt.rc('text', usetex=True)\n",
    "SMALL_SIZE = 16\n",
    "MEDIUM_SIZE = 20\n",
    "BIGGER_SIZE = 24\n",
    "\n",
    "plt.rc('font', size=SMALL_SIZE)          # controls default text sizes\n",
    "plt.rc('axes', titlesize=SMALL_SIZE)     # fontsize of the axes title\n",
    "plt.rc('axes', labelsize=MEDIUM_SIZE)    # fontsize of the x and y labels\n",
    "plt.rc('xtick', labelsize=SMALL_SIZE)    # fontsize of the tick labels\n",
    "plt.rc('ytick', labelsize=SMALL_SIZE)    # fontsize of the tick labels\n",
    "plt.rc('legend', fontsize=SMALL_SIZE)    # legend fontsize\n",
    "plt.rc('figure', titlesize=BIGGER_SIZE)  # fontsize of the figure title\n",
    "\n",
    "\n",
    "count_figure=0\n",
    "%matplotlib inline "
   ]
  },
  {
   "cell_type": "code",
   "execution_count": 3,
   "id": "a9e96d89",
   "metadata": {},
   "outputs": [
    {
     "name": "stdout",
     "output_type": "stream",
     "text": [
      "results/initial_precipitation_distribution_1020C_strain_rate0.000E+00.txt\n",
      "(20,)\n",
      "(20,)\n"
     ]
    },
    {
     "name": "stderr",
     "output_type": "stream",
     "text": [
      "/var/folders/64/3rdy5zn50bg0pz69t75j_b6c0000gp/T/ipykernel_86958/4250036666.py:30: RuntimeWarning: invalid value encountered in true_divide\n",
      "  f=plt.plot(radius_bin*1e9, precipitate_density_0/max(precipitate_density_0),'--', color='k', label='Initial precipitate density' )\n"
     ]
    },
    {
     "data": {
      "image/png": "[encoded data removed]",
      "text/plain": [
       "<Figure size 432x288 with 1 Axes>"
      ]
     },
     "metadata": {
      "needs_background": "light"
     },
     "output_type": "display_data"
    }
   ],
   "source": [
    "#chose the strain rates and temperatures for which to display the result \n",
    "strain_rate=[0]\n",
    "temperature_max=[1020]\n",
    "\n",
    "#prefix for folder where the results are stored\n",
    "prefix='results/'\n",
    "\n",
    "initial_precipitate_distribution=[]\n",
    "leg=[]\n",
    "\n",
    "suffix=[]\n",
    "for j in range(len(strain_rate)):\n",
    "    for i  in range(len(temperature_max)):\n",
    "        #the suffix of the result files depends on the temperature and strain rate considered\n",
    "        suffix.append(\"{temperature}C_strain_rate{str:3.3E}.txt\".format(temperature=temperature_max[i], str=strain_rate[j]))\n",
    "#print(suffix)\n",
    "\n",
    "for j in range(len(strain_rate)):\n",
    "    for i  in range(len(temperature_max)):\n",
    "     \n",
    "        \n",
    "        #load and display the initial precipitate distribution\n",
    "        file_name= \"{pre}initial_precipitation_distribution_{suffix}\".format(pre=prefix,suffix=suffix[len(temperature_max)*j+i])\n",
    "        print(file_name)\n",
    "        data_0=np.genfromtxt(file_name, skip_header=1)\n",
    "        radius_bin=data_0[:,0]\n",
    "        print(radius_bin.shape)\n",
    "        precipitate_density_0=data_0[:,1]\n",
    "        print(precipitate_density_0.shape)\n",
    "        f=plt.plot(radius_bin*1e9, precipitate_density_0/max(precipitate_density_0),'--', color='k', label='Initial precipitate density' )\n",
    "        leg.append(\"{temperature}°C\".format(temperature=temperature_max[i]))\n",
    "        #load and display the final precipitate distribution\n",
    "        file_name= \"{pre}precipitation_distribution_{suffix}\".format(pre=prefix,suffix=suffix[len(temperature_max)*j+i])\n",
    "        data_0=np.genfromtxt(file_name, skip_header=1)\n",
    "        final_precipitate_density=data_0\n",
    "        count_figure=count_figure+1\n",
    "        plt.plot(radius_bin*1e9, final_precipitate_density/max(final_precipitate_density),  color='k', label='Final precipitate density')\n",
    "        leg.append(\"{temperature}°C\".format(temperature=temperature_max[i]))\n",
    "        plt.legend()\n",
    "        plt.xlabel('Bin radius [nm]')\n",
    "        plt.ylabel('Precipitate density distribution [AU]')\n",
    "    \n"
   ]
  },
  {
   "cell_type": "code",
   "execution_count": 4,
   "id": "d9dd5caa",
   "metadata": {},
   "outputs": [
    {
     "name": "stdout",
     "output_type": "stream",
     "text": [
      "  \n",
      " KWN parameters\n",
      "  \n",
      "Interfacial energy:   0.090 J/m^2\n",
      "Migration energy:                   0.269000E+06 J/mol\n",
      "D0:                   0.294000E-03 m^2/s\n",
      "  \n",
      " Initial distribution\n",
      "Initial mean radius:                   0.000000E+00 m\n",
      "Initial volume fraction:   0.000\n",
      "Standard deviation:                   0.000000E+00\n",
      "Shape parameter:   0.200\n",
      "  \n",
      "Starting bin :                   0.400000E-09 m\n",
      "Bin width :                   0.100000E-09 m\n",
      "Number of steps :   20\n",
      "  \n",
      " Vacancy model parameters \n",
      "Vacancy formation energy:   0.520 [eV]\n",
      "Vacancy migration energy:   0.930 [eV]\n",
      "Pre-factor diffusion vacancy:                   0.100000E-04 [m^2/s]\n",
      "Mechanical vacancy production constant:   0.035 []\n",
      "Vacancy sink spacing (grain size):                   0.500000E-04 [m]\n",
      "Jog formation energy:   0.300 [eV]\n",
      "Dislocation arrangement parameter:  10.000 []\n",
      "Initial dislocation density:                   0.100000E+15 [/m^2]\n",
      "Saturation dislocation density:                   0.100000E+15 [/m^2]\n",
      " \n",
      " Deformation conditions\n",
      "Strain rate:                   0.000000E+00 [/m^2]\n",
      "Temperature: ******* [°C]\n",
      "\n",
      "\n",
      "\n"
     ]
    }
   ],
   "source": [
    "#display the KWN parameters\n",
    "for j in range(len(strain_rate)):\n",
    "\n",
    "    file_name= \"{pre}KWN_parameters_{end}\".format(pre=prefix,end=suffix[j])\n",
    "    with open(file_name, 'r') as f:\n",
    "        print(f.read())\n",
    "    \n",
    "    print('')\n",
    "    print('')"
   ]
  },
  {
   "cell_type": "code",
   "execution_count": 5,
   "id": "213d3f29",
   "metadata": {
    "scrolled": true
   },
   "outputs": [],
   "source": [
    "time=[]\n",
    "mean_radius=[]\n",
    "precipitate_density=[]\n",
    "vf=[]\n",
    "nucleation_rate=[]\n",
    "critical_radius=[]\n",
    "concentration_matrix=[]\n",
    "growth_rate=[]\n",
    "\n",
    "\n",
    "for j in range(len(strain_rate)):\n",
    "#for j in [1]   : \n",
    "    for i  in range(len(temperature_max)):\n",
    "    \n",
    "       # print(j)\n",
    "        file_name= \"{pre}kinetics_data_{suffix}\".format(pre=prefix,suffix=suffix[len(temperature_max)*j+i])\n",
    "        \n",
    "       # print(file_name)\n",
    "        data=[]\n",
    "        data=np.genfromtxt(file_name, skip_header=4)\n",
    "        time.append(data[:,0])\n",
    "        mean_radius.append(data[:,1]) #nm \n",
    "        \n",
    "        precipitate_density.append(data[:,2]) #/micron^3\n",
    "        vf.append(data[:,3]) #\n",
    "        nucleation_rate.append(data[:,5]) #per micron^3\n",
    "        critical_radius.append(data[:,4]) #nm\n",
    "        concentration_matrix.append(data[:,6]) #\n",
    "        growth_rate.append(np.diff(data[:,1])/np.diff(data[:,0]))\n",
    "        #print(concentration_matrix)\n",
    "\n",
    "       # print(time)"
   ]
  },
  {
   "cell_type": "code",
   "execution_count": 6,
   "id": "a5cdad67",
   "metadata": {
    "scrolled": true
   },
   "outputs": [
    {
     "data": {
      "image/png": "[encoded data removed]",
      "text/plain": [
       "<Figure size 432x288 with 1 Axes>"
      ]
     },
     "metadata": {
      "needs_background": "light"
     },
     "output_type": "display_data"
    }
   ],
   "source": [
    "j=0 #without deformation\n",
    "leg=[]\n",
    "f_radius=[]\n",
    "for j in range(len(strain_rate)):\n",
    "#for j in [0]:\n",
    "        \n",
    "    leg.append(\"Strain rate : {strain_rate}\".format(strain_rate=strain_rate[j]))\n",
    "       \n",
    "    for i  in range(len(temperature_max)):\n",
    "    \n",
    "        \n",
    "        plt.figure(i)\n",
    "        plt.xlabel('Strain')\n",
    "        plt.ylabel('Mean Radius [nm]')\n",
    "        \n",
    "        #for j in [3]:\n",
    "        f1=plt.plot(time[len(temperature_max)*j+i], mean_radius[len(temperature_max)*j+i], 'k')\n",
    "        colour=f1[0].get_color()\n",
    "      #  f1=plt.semilogx(time[len(temperature_max)*j+i], critical_radius[len(temperature_max)*j+i], '--k')\n",
    "        \n",
    "            #f1=plt.plot(time[len(temperature_max)*j+i], mean_radius[len(temperature_max)*j+i]*np.sqrt(3/5), '--', color=colour)\n",
    "             #print(max(mean_radius[3*j+i])-min(mean_radius[3*j+i]))\n",
    "        plt.legend(leg)  \n",
    "        plt.title('T={temperature}°C'.format(temperature=temperature_max[i]), fontsize=18 )\n",
    "       # plt.xlim([0,(temperature_max[i]-20)/heating_rate+30])\n",
    "        \n",
    "        f_radius.append(interpolate.interp1d(time[len(temperature_max)*j+i],mean_radius[len(temperature_max)*j+i]))\n",
    "       # plt.ylim([1.12,1.2])\n",
    "    #f2=plt.plot(time[0], critical_radius[0],'--k')\n",
    "#plt.figure(1)\n",
    "plt.xlabel('Time [s]')\n",
    "plt.ylabel('Radius [nm]')\n",
    "plt.legend(['Mean radius', 'r*'])\n",
    "#plt.xlim([10**0, 10**4.5])\n",
    "\n",
    "#plt.legend(leg)\n",
    "plt.draw\n",
    "plt.show\n",
    "plt.savefig('fig_time_radius_{s}_{t}.pdf'.format(s=strain_rate[j], t=temperature_max[i]),bbox_inches='tight')\n",
    "    "
   ]
  },
  {
   "cell_type": "code",
   "execution_count": 7,
   "id": "3092c065",
   "metadata": {},
   "outputs": [
    {
     "data": {
      "image/png": "[encoded data removed]",
      "text/plain": [
       "<Figure size 432x288 with 1 Axes>"
      ]
     },
     "metadata": {
      "needs_background": "light"
     },
     "output_type": "display_data"
    }
   ],
   "source": [
    "j=0 #without deformation\n",
    "leg=[]\n",
    "for j in range(len(strain_rate)):        \n",
    "    #leg.append(\"Strain rate : {strain_rate}\".format(strain_rate=strain_rate[j]))\n",
    "       \n",
    "    for i  in range(len(temperature_max)):        \n",
    "        plt.figure(i)\n",
    "        plt.xlabel('Time [s]')\n",
    "        plt.ylabel('Volume fraction')        \n",
    "        #for j in [3]:\n",
    "        f1=plt.plot(time[len(temperature_max)*j+i], vf[len(temperature_max)*j+i], 'k')\n",
    "        colour=f1[0].get_color()\n",
    "        #plt.legend(leg)  \n",
    "        plt.title('T={temperature}°C'.format(temperature=temperature_max[i]), fontsize=18 )\n",
    "        #plt.xlim([1,10000])\n",
    "plt.savefig('fig_vf_{s}_{t}.pdf'.format(s=strain_rate[j], t=temperature_max[i]),bbox_inches='tight')\n",
    "          "
   ]
  },
  {
   "cell_type": "code",
   "execution_count": 8,
   "id": "24ca002b-27fc-4221-a8b2-03e06e84ccbe",
   "metadata": {},
   "outputs": [
    {
     "data": {
      "image/png": "[encoded data removed]",
      "text/plain": [
       "<Figure size 432x288 with 1 Axes>"
      ]
     },
     "metadata": {
      "needs_background": "light"
     },
     "output_type": "display_data"
    }
   ],
   "source": [
    "j=0 #without deformation\n",
    "leg=[]\n",
    "for j in range(len(strain_rate)):        \n",
    "    leg.append(\"Strain rate : {strain_rate}\".format(strain_rate=strain_rate[j]))\n",
    "       \n",
    "    for i  in range(len(temperature_max)):        \n",
    "        plt.figure(i)\n",
    "        plt.xlabel('Time [s]')\n",
    "        plt.ylabel('Concentration matrix')\n",
    "        #for j in [3]:\n",
    "        f1=plt.semilogx(time[len(temperature_max)*j+i], concentration_matrix[len(temperature_max)*j+i], 'k')\n",
    "        colour=f1[0].get_color()\n",
    "        plt.legend(leg)  \n",
    "        plt.title('T={temperature}°C'.format(temperature=temperature_max[i]), fontsize=18 )\n",
    "        #plt.xlim([1,1000])\n",
    "plt.savefig('fig_time_concentration_{s}_{t}.pdf'.format(s=strain_rate[j], t=temperature_max[i]),bbox_inches='tight')\n",
    "          "
   ]
  },
  {
   "cell_type": "code",
   "execution_count": 9,
   "id": "c7ad1d70",
   "metadata": {},
   "outputs": [
    {
     "name": "stdout",
     "output_type": "stream",
     "text": [
      "9.55893e+17\n"
     ]
    },
    {
     "data": {
      "image/png": "[encoded data removed]",
      "text/plain": [
       "<Figure size 432x288 with 2 Axes>"
      ]
     },
     "metadata": {
      "needs_background": "light"
     },
     "output_type": "display_data"
    }
   ],
   "source": [
    "\n",
    "j=0 #without deformation\n",
    "leg=[]\n",
    "for j in range(len(strain_rate)):        \n",
    "    leg.append(\"Strain rate : {strain_rate}\".format(strain_rate=strain_rate[j]))\n",
    "       \n",
    "    for i  in range(len(temperature_max)):        \n",
    "        fig,ax = plt.subplots()\n",
    "        plt.xlabel('Time [s]')\n",
    "        plt.ylabel('Precipitate Density [cm$^{-3}$ ]')        \n",
    "        #for j in [3]:\n",
    "        plt.semilogx(time[len(temperature_max)*j+i], precipitate_density[len(temperature_max)*j+i]*10**12, 'k', label='Number density')\n",
    "        colour=f1[0].get_color()\n",
    "       \n",
    "        plt.title('T={temperature}°C'.format(temperature=temperature_max[i]), fontsize=18 )\n",
    "        ax2=ax.twinx()\n",
    "        ax2.semilogx(time[len(temperature_max)*j+i], nucleation_rate[len(temperature_max)*j+i]*10**12, '--k',label='Nucleation rate')\n",
    "        plt.ylabel('Nucleation rate [cm$^{-3}$s$^{-1}$ ]')\n",
    "#plt.xlim([10**0.5, 10**4.5])   \n",
    "plt.legend()\n",
    "print(max(nucleation_rate[len(temperature_max)*j+i]*10**12))\n",
    "plt.savefig('fig_time_precipitate_density_nucleation_{s}_{t}.pdf'.format(s=strain_rate[j], t=temperature_max[i]),bbox_inches='tight')\n",
    "    "
   ]
  },
  {
   "cell_type": "code",
   "execution_count": null,
   "id": "ca24a1ea",
   "metadata": {},
   "outputs": [],
   "source": []
  }
 ],
 "metadata": {
  "kernelspec": {
   "display_name": "Python 3 (ipykernel)",
   "language": "python",
   "name": "python3"
  },
  "language_info": {
   "codemirror_mode": {
    "name": "ipython",
    "version": 3
   },
   "file_extension": ".py",
   "mimetype": "text/x-python",
   "name": "python",
   "nbconvert_exporter": "python",
   "pygments_lexer": "ipython3",
   "version": "3.8.8"
  }
 },
 "nbformat": 4,
 "nbformat_minor": 5
}
